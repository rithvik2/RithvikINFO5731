{
  "cells": [
    {
      "cell_type": "markdown",
      "metadata": {
        "id": "view-in-github"
      },
      "source": [
        "<a href=\"https://colab.research.google.com/github/unt-iialab/INFO5731_Spring2020/blob/master/Assignments/INFO5731_Assignment_One.ipynb\" target=\"_parent\"><img src=\"https://colab.research.google.com/assets/colab-badge.svg\" alt=\"Open In Colab\"/></a>"
      ]
    },
    {
      "cell_type": "markdown",
      "metadata": {
        "id": "Ryk8D1Q4Wsrp"
      },
      "source": [
        "# **INFO5731 Assignment One**"
      ]
    },
    {
      "cell_type": "markdown",
      "source": [
        "This assignment includes range of programming tasks and data analysis exercises, aiming to enhance your Python skills and proficiency in string manipulation, numerical computations, and data science. Follow the instructions carefully and design well-structured Python programs to address each question.\n",
        "\n",
        "Late Submission will have a penalty of 10% reduction for each day after the deadline."
      ],
      "metadata": {
        "id": "qcP6re2g5A5r"
      }
    },
    {
      "cell_type": "markdown",
      "metadata": {
        "id": "JkzR8cFAyGik"
      },
      "source": [
        "# Question 1 (10 points).\n",
        "\n",
        "The formula that describes the volume V of a hemisphere with radius r is the following:\n",
        "\n",
        "$ V=\\frac{2}{3}\\ast\\ \\pi\\ast\\ r^3 $\n",
        "\n",
        "Write a program to calculate the value of V when r is in the range of even numbers from 1-20. Output the result in the following format:\n",
        "\n",
        "\tr\tV\n",
        "\t2\t…\n",
        "\t4\t…\n",
        "\t6\t…\n",
        "\t.\n",
        "\t.\n",
        "\t.\n",
        "\t20\t…\n"
      ]
    },
    {
      "cell_type": "code",
      "execution_count": 2,
      "metadata": {
        "id": "jDyTKYs-yGit",
        "colab": {
          "base_uri": "https://localhost:8080/"
        },
        "outputId": "0e6aebbd-65c7-4407-f913-833ce035b56f"
      },
      "outputs": [
        {
          "output_type": "stream",
          "name": "stdout",
          "text": [
            "r    V\n",
            "2   16.755161\n",
            "4   134.041287\n",
            "6   452.389342\n",
            "8   1072.330292\n",
            "10   2094.395102\n",
            "12   3619.114737\n",
            "14   5747.020161\n",
            "16   8578.642339\n",
            "18   12214.512237\n",
            "20   16755.160819\n"
          ]
        }
      ],
      "source": [
        "import math\n",
        "\n",
        "print(\"r    V\")\n",
        "\n",
        "for r in range(2, 21, 2):\n",
        "    V = (2/3) * math.pi * (r ** 3)\n",
        "    print(r, \" \", round(V, 6))\n"
      ]
    },
    {
      "cell_type": "markdown",
      "metadata": {
        "id": "90_NR8c5XGWc"
      },
      "source": [
        "# Question 2 (20 points)\n",
        "\n",
        "(a) Write a Python program to generate a sequence of 12 random numbers falling within the range of 50 to 150.\n",
        "\n",
        "(b) Arrange the generated numbers in ascending order. Display the sorted list.\n",
        "\n",
        "(c) Extend the program to arrange the numbers in descending order as well. Present the sorted list accordingly.\n",
        "\n",
        "(d) Compute and output the average of the entire group of generated numbers.\n",
        "\n",
        "(e) Enhance the program to calculate and display the average of the first 6 numbers from both the ascending and descending sorted lists."
      ]
    },
    {
      "cell_type": "code",
      "execution_count": 7,
      "metadata": {
        "id": "5QX6bJjGWXY9",
        "colab": {
          "base_uri": "https://localhost:8080/"
        },
        "outputId": "4e1ba80d-2467-46f5-fee9-a178db21d744"
      },
      "outputs": [
        {
          "output_type": "stream",
          "name": "stdout",
          "text": [
            "Generated numbers: [147, 138, 137, 75, 141, 116, 135, 131, 66, 95, 143, 80]\n",
            "Numbers in ascending order: [66, 75, 80, 95, 116, 131, 135, 137, 138, 141, 143, 147]\n",
            "Numbers in descending order: [147, 143, 141, 138, 137, 135, 131, 116, 95, 80, 75, 66]\n",
            "Average of all numbers: 117.0\n",
            "Average of the first 6 numbers (ascending): 93.83333333333333\n",
            "Average of the first 6 numbers (descending): 140.16666666666666\n"
          ]
        }
      ],
      "source": [
        "import random\n",
        "\n",
        "# (a) Generate a list of 12 random numbers between 50 and 150\n",
        "numbers = [random.randint(50, 150) for _ in range(12)]\n",
        "print(\"Generated numbers:\", numbers)\n",
        "\n",
        "# (b) Sort the numbers in ascending order\n",
        "ascending_numbers = sorted(numbers)\n",
        "print(\"Numbers in ascending order:\", ascending_numbers)\n",
        "\n",
        "# (c) Sort the numbers in descending order\n",
        "descending_numbers = sorted(numbers, reverse=True)\n",
        "print(\"Numbers in descending order:\", descending_numbers)\n",
        "\n",
        "# (d) Compute the average of the generated numbers\n",
        "average = sum(numbers) / len(numbers)\n",
        "print(\"Average of all numbers:\", average)\n",
        "\n",
        "# (e) Compute the average of the first 6 numbers from the ascending list\n",
        "average_first_6_ascending = sum(ascending_numbers[:6]) / 6\n",
        "print(\"Average of the first 6 numbers (ascending):\", average_first_6_ascending)\n",
        "\n",
        "# Compute the average of the first 6 numbers from the descending list\n",
        "average_first_6_descending = sum(descending_numbers[:6]) / 6\n",
        "print(\"Average of the first 6 numbers (descending):\", average_first_6_descending)\n"
      ]
    },
    {
      "cell_type": "markdown",
      "metadata": {
        "id": "1F_PZdH9Sh49"
      },
      "source": [
        "# Question 3 (20 points).\n",
        "\n",
        "Create a Python program that encompasses various string manipulation task:\n",
        "\n",
        "(a) Prompt the user to input two sentences.\n",
        "\n",
        "(b) Transform each sentence into a list, where each element corresponds to a word in the sentence. For example, if the sentences are \"Hello, how are you doing today?\" and \"This is an example sentence for the program!\"\n",
        "\n",
        "The program should output:\n",
        "['Hello', ',', 'how', 'are', 'you', 'doing', 'today', '?', 'This', 'is', 'an', 'example', 'sentence', 'for', 'the', 'program', '!']\n",
        "\n",
        "(c) Compare the two sentences. Print out a list of words that occur in both sentences.\n",
        "\n",
        "(d) Remove any punctuation from the sentence and print the sanitized sentences. It should remove at least the following characters, but it can remove more: period(“.”), comma (“,”), semicolon (“;”), and colon (“:”).\n",
        "\n",
        "(e) Count the number of vowels in each of the sentences. Print out each vowel and the occurrences  in the each of the two sentences separately, such as:\n",
        "\n",
        "Sentence1: a:2, e:2, i:0, etc.\n",
        "Sentence2: a:1, e:2, i:2, etc.\n",
        "\n",
        "Design a well-structured Python program to execute these tasks efficiently."
      ]
    },
    {
      "cell_type": "code",
      "execution_count": 8,
      "metadata": {
        "id": "Y0oOSlsOS0cq",
        "colab": {
          "base_uri": "https://localhost:8080/"
        },
        "outputId": "ec7e5cf4-b9e9-4392-fca4-70e6ca80f3a3"
      },
      "outputs": [
        {
          "output_type": "stream",
          "name": "stdout",
          "text": [
            "Enter the first sentence: Rithvik\n",
            "Enter the second sentence: kasaragadda\n",
            "Combined list of words: ['Rithvik', 'kasaragadda']\n",
            "Common words: []\n",
            "Sanitized Sentence 1: Rithvik\n",
            "Sanitized Sentence 2: kasaragadda\n",
            "Vowel count in Sentence 1: {'a': 0, 'e': 0, 'i': 2, 'o': 0, 'u': 0}\n",
            "Vowel count in Sentence 2: {'a': 5, 'e': 0, 'i': 0, 'o': 0, 'u': 0}\n"
          ]
        }
      ],
      "source": [
        "import string\n",
        "\n",
        "# (a) Prompt the user to input two sentences\n",
        "sentence1 = input(\"Enter the first sentence: \")\n",
        "sentence2 = input(\"Enter the second sentence: \")\n",
        "\n",
        "# (b) Transform each sentence into a list of words\n",
        "sentence1_list = sentence1.split()\n",
        "sentence2_list = sentence2.split()\n",
        "\n",
        "# Combine the two lists of words\n",
        "combined_list = sentence1_list + sentence2_list\n",
        "print(\"Combined list of words:\", combined_list)\n",
        "\n",
        "# (c) Compare the two sentences and print the common words\n",
        "common_words = set(sentence1_list).intersection(set(sentence2_list))\n",
        "print(\"Common words:\", list(common_words))\n",
        "\n",
        "# (d) Remove punctuation from the sentences and print sanitized versions\n",
        "# Define a translation table that removes punctuation\n",
        "translator = str.maketrans('', '', string.punctuation)\n",
        "\n",
        "sanitized_sentence1 = sentence1.translate(translator)\n",
        "sanitized_sentence2 = sentence2.translate(translator)\n",
        "\n",
        "print(\"Sanitized Sentence 1:\", sanitized_sentence1)\n",
        "print(\"Sanitized Sentence 2:\", sanitized_sentence2)\n",
        "\n",
        "# (e) Count the number of vowels in each sentence\n",
        "vowels = 'aeiou'\n",
        "\n",
        "# Function to count vowels in a sentence\n",
        "def count_vowels(sentence):\n",
        "    sentence = sentence.lower()  # convert to lowercase\n",
        "    vowel_count = {v: sentence.count(v) for v in vowels}\n",
        "    return vowel_count\n",
        "\n",
        "# Count vowels in both sentences\n",
        "vowel_count1 = count_vowels(sanitized_sentence1)\n",
        "vowel_count2 = count_vowels(sanitized_sentence2)\n",
        "\n",
        "# Print the vowel counts for both sentences\n",
        "print(\"Vowel count in Sentence 1:\", vowel_count1)\n",
        "print(\"Vowel count in Sentence 2:\", vowel_count2)\n",
        "\n"
      ]
    },
    {
      "cell_type": "markdown",
      "source": [
        "# Question 4 (20 Points)"
      ],
      "metadata": {
        "id": "OP4-5qxAtInv"
      }
    },
    {
      "cell_type": "markdown",
      "source": [
        "Design and implement a simple command-line calculator program. The program should handle both integers and floating-point numbers.\n",
        "\n",
        "(a) Write program that takes a mathematical expression as input and evaluates it. The program should support addition, subtraction, multiplication, and division.\n",
        "\n",
        "(b) Extend the calculator to handle parentheses in mathematical expressions. Implement the necessary logic to evaluate expressions with nested parentheses.\n",
        "\n",
        "(c) Enhance your calculator to include additional mathematical operations such as exponentiation, square root, and modulus.\n",
        "\n",
        "(d) Implement error handling in the calculator program. Handle cases such as division by zero and invalid input expressions. Provide meaningful error messages.\n",
        "\n",
        "(e) Implement a command to exit the calculator."
      ],
      "metadata": {
        "id": "uzN4_hDptK9U"
      }
    },
    {
      "cell_type": "code",
      "source": [
        "import math\n",
        "\n",
        "def calculator():\n",
        "    while True:\n",
        "        try:\n",
        "            # (e) Command to exit the calculator\n",
        "            expression = input(\"Enter a mathematical expression (or type 'exit' to quit): \")\n",
        "            if expression.lower() == 'exit':\n",
        "                print(\"Exiting calculator.\")\n",
        "                break\n",
        "\n",
        "            # (a) Evaluate the mathematical expression (basic operations)\n",
        "            result = eval(expression)\n",
        "\n",
        "            print(\"Result:\", result)\n",
        "\n",
        "        except ZeroDivisionError:\n",
        "            # (d) Handle division by zero\n",
        "            print(\"Error: Division by zero is not allowed.\")\n",
        "\n",
        "        except (SyntaxError, NameError):\n",
        "            # (d) Handle invalid input expressions\n",
        "            print(\"Error: Invalid input. Please enter a valid mathematical expression.\")\n",
        "\n",
        "        except Exception as e:\n",
        "            # General error handling\n",
        "            print(f\"An error occurred: {e}\")\n",
        "\n",
        "# Additional operations handled by eval():\n",
        "# (c) Support for additional operations like exponentiation (**), square root (math.sqrt), and modulus (%)\n",
        "def calculator_with_functions():\n",
        "    while True:\n",
        "        try:\n",
        "            expression = input(\"Enter a mathematical expression (or type 'exit' to quit): \")\n",
        "            if expression.lower() == 'exit':\n",
        "                print(\"Exiting calculator.\")\n",
        "                break\n",
        "\n",
        "            # Replace 'sqrt' with 'math.sqrt' for square root calculation\n",
        "            expression = expression.replace('sqrt', 'math.sqrt')\n",
        "\n",
        "            # Evaluate the expression\n",
        "            result = eval(expression)\n",
        "\n",
        "            print(\"Result:\", result)\n",
        "\n",
        "        except ZeroDivisionError:\n",
        "            print(\"Error: Division by zero is not allowed.\")\n",
        "\n",
        "        except (SyntaxError, NameError):\n",
        "            print(\"Error: Invalid input. Please enter a valid mathematical expression.\")\n",
        "\n",
        "        except Exception as e:\n",
        "            print(f\"An error occurred: {e}\")\n",
        "\n",
        "# Run the enhanced calculator\n",
        "calculator_with_functions()\n",
        "\n"
      ],
      "metadata": {
        "id": "8nQnVxjJuYtu",
        "colab": {
          "base_uri": "https://localhost:8080/"
        },
        "outputId": "0024723d-0571-4ffd-f335-12f84bb36b35"
      },
      "execution_count": 9,
      "outputs": [
        {
          "output_type": "stream",
          "name": "stdout",
          "text": [
            "Enter a mathematical expression (or type 'exit' to quit): *\n",
            "Error: Invalid input. Please enter a valid mathematical expression.\n",
            "Enter a mathematical expression (or type 'exit' to quit): 3*2\n",
            "Result: 6\n",
            "Enter a mathematical expression (or type 'exit' to quit): \n",
            "Error: Invalid input. Please enter a valid mathematical expression.\n",
            "Enter a mathematical expression (or type 'exit' to quit): exit\n",
            "Exiting calculator.\n"
          ]
        }
      ]
    },
    {
      "cell_type": "markdown",
      "metadata": {
        "id": "z3tBE7E-Xn5X"
      },
      "source": [
        "# Question 5 (30 points).\n",
        "\n",
        "In the field of Data Science, data is often formatted as a comma-delimited (CSV) file, where each line in a file corresponds to a field's value. Refer to Chapter 9 (p. 106) for more information on comma-delimited files.\n",
        "\n",
        "To answer this question, you will need to download the file [Assignment1_denton_housing.csv](https://raw.githubusercontent.com/unt-iialab/info5731-spring2022/main/assignments/Assignment1_denton_housing.csv) included with this assignment. The file contains statistics about housing in the city of Denton from 2008 to 2014. Write a program to implement the following questions.\n",
        "\n",
        "(a) (5 pts) Calculate the difference in the number of Occupied Housing Units from year to year and print it. The difference must be calculated for the consecutive years such as 2008-2009, 2009-2010 etc. Finally, print the values in the ascending order.\n",
        "\n",
        "(b) (5 pts) For all the years, calculate the percentage of housing units which are vacant an occupied. Print the results in the following format:\n",
        "\n",
        "Year Vacant Housing Units Occupied Housing Units\n",
        "\n",
        "    2008  30%   70%                          \n",
        "\t2009 ----- -----\n",
        "\t2010 ----- -----\n",
        "    2011 ----- -----\n",
        "\t2012 ----- -----\n",
        "    2013 ----- -----\n",
        "\t2014 ----- -----\n",
        "  \n",
        "  \n",
        "\n",
        "(c) (10 pts) Calculate and print the valued and years in which the highest number of housing units were vacant and occupied. Print the results in the following format:  \n",
        "\n",
        "                              Year\tValue\n",
        "\tVacant Housing Units\t  -----   -----\n",
        "\tOccupied Housing Units\t-----   -----\n",
        "\n",
        "(d) (10 pts) Calculate the harmonic mean of the total housing units and print it out. You can find the information about harmonic mean here: https://ncalculators.com/statistics/harmonic-mean-calculator.htm"
      ]
    },
    {
      "cell_type": "code",
      "execution_count": 28,
      "metadata": {
        "id": "lqGYuHBhcsRH",
        "colab": {
          "base_uri": "https://localhost:8080/"
        },
        "outputId": "3249982b-f739-451e-9f44-8677e71bc4eb"
      },
      "outputs": [
        {
          "output_type": "stream",
          "name": "stdout",
          "text": [
            "Difference in Occupied Housing Units from year to year (ascending order):\n",
            "-795\n",
            "-303\n",
            "1404\n",
            "1565\n",
            "2622\n",
            "5091\n",
            "\n",
            "Year | Vacant Housing Units (%) | Occupied Housing Units (%)\n",
            "2008 | 10.88 | 89.12\n",
            "2009 | 9.07 | 90.93\n",
            "2010 | 8.14 | 91.86\n",
            "2011 | 9.38 | 90.62\n",
            "2012 | 6.68 | 93.32\n",
            "2013 | 8.80 | 91.20\n",
            "2014 | 5.73 | 94.27\n",
            "\n",
            "Year with highest Vacant Housing Units: 2008 - 4483\n",
            "Year with highest Occupied Housing Units: 2014 - 46295\n",
            "\n",
            "Harmonic Mean of Total Housing Units: 44398.29\n"
          ]
        }
      ],
      "source": [
        "import pandas as pd\n",
        "\n",
        "# Define the path to your CSV file in Google Drive\n",
        "path = '/content/gdrive/MyDrive/Assignment1_denton_housing.csv'\n",
        "\n",
        "# Load data from CSV file\n",
        "def load_data(path):\n",
        "    try:\n",
        "        data = pd.read_csv(path)\n",
        "        return data\n",
        "    except FileNotFoundError:\n",
        "        print(f\"File not found: {path}\")\n",
        "        return None\n",
        "\n",
        "# Load the data\n",
        "data = load_data(path)\n",
        "\n",
        "if data is not None:\n",
        "    # Function to calculate the difference in Occupied Housing Units from year to year\n",
        "    def calculate_occupied_diff(data):\n",
        "        occupied_units = data[data['title_field'] == 'Occupied Housing Units']\n",
        "        occupied_units = occupied_units[['year', 'value']].copy()\n",
        "        occupied_units['year'] = occupied_units['year'].astype(int)\n",
        "        occupied_units['value'] = occupied_units['value'].astype(int)\n",
        "        occupied_units = occupied_units.sort_values(by='year').reset_index(drop=True)\n",
        "\n",
        "        differences = []\n",
        "        for i in range(1, len(occupied_units)):\n",
        "            diff = occupied_units.loc[i, 'value'] - occupied_units.loc[i-1, 'value']\n",
        "            differences.append(diff)\n",
        "\n",
        "        differences.sort()\n",
        "\n",
        "        print(\"Difference in Occupied Housing Units from year to year (ascending order):\")\n",
        "        for diff in differences:\n",
        "            print(diff)\n",
        "\n",
        "    # Function to calculate the percentage of vacant and occupied housing units\n",
        "    def calculate_percentages(data):\n",
        "        units = data.pivot(index='year', columns='title_field', values='value').reset_index()\n",
        "\n",
        "        print(\"\\nYear | Vacant Housing Units (%) | Occupied Housing Units (%)\")\n",
        "\n",
        "        for index, row in units.iterrows():\n",
        "            total = row.get('Total Housing Units', 0)\n",
        "            vacant = row.get('Vacant Housing Units', 0)\n",
        "            occupied = row.get('Occupied Housing Units', 0)\n",
        "\n",
        "            if total > 0:\n",
        "                vacant_percent = (vacant / total) * 100\n",
        "                occupied_percent = (occupied / total) * 100\n",
        "            else:\n",
        "                vacant_percent = 0\n",
        "                occupied_percent = 0\n",
        "\n",
        "            print(f\"{row['year']} | {vacant_percent:.2f} | {occupied_percent:.2f}\")\n",
        "\n",
        "    # Function to find the years with the highest number of vacant and occupied housing units\n",
        "    def find_max_units(data):\n",
        "        vacant_units = data[data['title_field'] == 'Vacant Housing Units']\n",
        "        occupied_units = data[data['title_field'] == 'Occupied Housing Units']\n",
        "\n",
        "        max_vacant_year = vacant_units.loc[vacant_units['value'].idxmax()]\n",
        "        max_occupied_year = occupied_units.loc[occupied_units['value'].idxmax()]\n",
        "\n",
        "        print(f\"\\nYear with highest Vacant Housing Units: {max_vacant_year['year']} - {max_vacant_year['value']}\")\n",
        "        print(f\"Year with highest Occupied Housing Units: {max_occupied_year['year']} - {max_occupied_year['value']}\")\n",
        "\n",
        "    # Function to calculate and print the harmonic mean of total housing units\n",
        "    def calculate_harmonic_mean(data):\n",
        "        total_units = data[data['title_field'] == 'Total Housing Units']['value'].astype(float)\n",
        "\n",
        "        n = len(total_units)\n",
        "        if n == 0:\n",
        "            harmonic_mean = 0\n",
        "        else:\n",
        "            harmonic_mean = n / (1 / total_units).sum()\n",
        "\n",
        "        print(f\"\\nHarmonic Mean of Total Housing Units: {harmonic_mean:.2f}\")\n",
        "\n",
        "    # Call functions\n",
        "    calculate_occupied_diff(data)\n",
        "    calculate_percentages(data)\n",
        "    find_max_units(data)\n",
        "    calculate_harmonic_mean(data)\n"
      ]
    },
    {
      "cell_type": "code",
      "source": [
        "from google.colab import drive\n",
        "drive.mount('/content/gdrive')\n"
      ],
      "metadata": {
        "colab": {
          "base_uri": "https://localhost:8080/"
        },
        "id": "5VyGAbWXcZ4Q",
        "outputId": "4f715d78-3a89-427b-e203-993c44d18ade"
      },
      "execution_count": 27,
      "outputs": [
        {
          "output_type": "stream",
          "name": "stdout",
          "text": [
            "Mounted at /content/gdrive\n"
          ]
        }
      ]
    },
    {
      "cell_type": "markdown",
      "source": [
        "# Mandatory Question\n",
        "\n",
        "Provide your thoughts on the assignment. What did you find challenging, and what aspects did you enjoy? Your opinion on the provided time to complete the assignment. Share any suggestions for improvement. Your feedback will be valuable for enhancing the learning experience."
      ],
      "metadata": {
        "id": "q8BFCvWp32cf"
      }
    },
    {
      "cell_type": "code",
      "source": [
        "#The assignment was engaging as it involved real-world data manipulation and analysis, which I found both practical and insightful. I enjoyed using pandas for its powerful data handling capabilities, although integrating different calculations required careful attention. The time allotted felt appropriate for understanding and applying the concepts, but clearer instructions on each step might have been helpful. Overall, more guidance on data preprocessing and detailed examples would enhance the learning experience."
      ],
      "metadata": {
        "id": "KwMZMdVpdEWY"
      },
      "execution_count": 30,
      "outputs": []
    }
  ],
  "metadata": {
    "colab": {
      "provenance": []
    },
    "kernelspec": {
      "display_name": "Python 3 (ipykernel)",
      "language": "python",
      "name": "python3"
    },
    "language_info": {
      "codemirror_mode": {
        "name": "ipython",
        "version": 3
      },
      "file_extension": ".py",
      "mimetype": "text/x-python",
      "name": "python",
      "nbconvert_exporter": "python",
      "pygments_lexer": "ipython3",
      "version": "3.9.12"
    }
  },
  "nbformat": 4,
  "nbformat_minor": 0
}